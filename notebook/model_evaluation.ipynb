{
 "cells": [
  {
   "cell_type": "code",
   "execution_count": null,
   "metadata": {},
   "outputs": [],
   "source": [
    "# Model evaluation notebook\n",
    "from PIL import Image\n",
    "from transformers import pipeline\n",
    "\n",
    "# Load model\n",
    "segmentation_model = pipeline(model=\"../virtual-try-on/models/segformer_b2_clothes\")\n",
    "\n",
    "# Example: Evaluate model on a test image\n",
    "img_path = \"../data/processed/sample_processed.jpg\"\n",
    "img = Image.open(img_path)\n",
    "result = segmentation_model(img)\n",
    "print(result)"
   ]
  }
 ],
 "metadata": {
  "language_info": {
   "name": "python"
  }
 },
 "nbformat": 4,
 "nbformat_minor": 2
}

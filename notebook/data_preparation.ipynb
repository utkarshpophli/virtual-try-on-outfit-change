{
 "cells": [
  {
   "cell_type": "code",
   "execution_count": null,
   "metadata": {},
   "outputs": [],
   "source": [
    "# Data preparation notebook\n",
    "import os\n",
    "from PIL import Image\n",
    "\n",
    "# Example: Load and visualize data\n",
    "img_path = \"../data/raw/sample.jpg\"\n",
    "img = Image.open(img_path)\n",
    "img.show()\n",
    "\n",
    "# Save processed image\n",
    "img.save(\"../data/processed/sample_processed.jpg\")\n"
   ]
  }
 ],
 "metadata": {
  "language_info": {
   "name": "python"
  }
 },
 "nbformat": 4,
 "nbformat_minor": 2
}

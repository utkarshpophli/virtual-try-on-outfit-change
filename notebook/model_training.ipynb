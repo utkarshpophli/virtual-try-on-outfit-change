{
 "cells": [
  {
   "cell_type": "code",
   "execution_count": null,
   "metadata": {},
   "outputs": [],
   "source": [
    "# Model training notebook\n",
    "from transformers import pipeline\n",
    "\n",
    "# Example: Training a segmentation model\n",
    "segmentation_model = pipeline(model=\"mattmdjaga/segformer_b2_clothes\")\n",
    "\n",
    "# Save model\n",
    "segmentation_model.save_pretrained(\"../virtual-try-on/models/segformer_b2_clothes\")"
   ]
  }
 ],
 "metadata": {
  "language_info": {
   "name": "python"
  }
 },
 "nbformat": 4,
 "nbformat_minor": 2
}
